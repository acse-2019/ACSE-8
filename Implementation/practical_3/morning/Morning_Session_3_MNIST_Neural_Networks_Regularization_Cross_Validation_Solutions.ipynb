{
 "cells": [
  {
   "cell_type": "code",
   "execution_count": 7,
   "metadata": {
    "colab": {
     "base_uri": "https://localhost:8080/",
     "height": 791
    },
    "colab_type": "code",
    "id": "LL3vQPYkhzOy",
    "outputId": "259c4a82-dee1-48c3-e0a0-ba3a7b940e77"
   },
   "outputs": [
    {
     "name": "stdout",
     "output_type": "stream",
     "text": [
      "Requirement already satisfied: pycm in /Users/navjot/miniconda3/envs/devito/lib/python3.8/site-packages (2.6)\n",
      "Requirement already satisfied: livelossplot in /Users/navjot/miniconda3/envs/devito/lib/python3.8/site-packages (0.5.0)\n",
      "Collecting torchvision\n",
      "  Downloading torchvision-0.5.0-cp38-cp38-macosx_10_9_x86_64.whl (438 kB)\n",
      "\u001b[K     |████████████████████████████████| 438 kB 8.6 MB/s eta 0:00:01\n",
      "\u001b[?25hRequirement already satisfied: art>=1.8 in /Users/navjot/miniconda3/envs/devito/lib/python3.8/site-packages (from pycm) (4.6)\n",
      "Requirement already satisfied: numpy>=1.9.0 in /Users/navjot/miniconda3/envs/devito/lib/python3.8/site-packages (from pycm) (1.18.1)\n",
      "Requirement already satisfied: matplotlib; python_version >= \"3.6\" in /Users/navjot/miniconda3/envs/devito/lib/python3.8/site-packages (from livelossplot) (3.2.1)\n",
      "Requirement already satisfied: ipython in /Users/navjot/miniconda3/envs/devito/lib/python3.8/site-packages (from livelossplot) (7.13.0)\n",
      "Requirement already satisfied: pillow>=4.1.1 in /Users/navjot/miniconda3/envs/devito/lib/python3.8/site-packages (from torchvision) (7.0.0)\n",
      "Requirement already satisfied: torch==1.4.0 in /Users/navjot/miniconda3/envs/devito/lib/python3.8/site-packages (from torchvision) (1.4.0)\n",
      "Requirement already satisfied: six in /Users/navjot/miniconda3/envs/devito/lib/python3.8/site-packages (from torchvision) (1.14.0)\n",
      "Requirement already satisfied: pyparsing!=2.0.4,!=2.1.2,!=2.1.6,>=2.0.1 in /Users/navjot/miniconda3/envs/devito/lib/python3.8/site-packages (from matplotlib; python_version >= \"3.6\"->livelossplot) (2.4.6)\n",
      "Requirement already satisfied: python-dateutil>=2.1 in /Users/navjot/miniconda3/envs/devito/lib/python3.8/site-packages (from matplotlib; python_version >= \"3.6\"->livelossplot) (2.8.1)\n",
      "Requirement already satisfied: cycler>=0.10 in /Users/navjot/miniconda3/envs/devito/lib/python3.8/site-packages (from matplotlib; python_version >= \"3.6\"->livelossplot) (0.10.0)\n",
      "Requirement already satisfied: kiwisolver>=1.0.1 in /Users/navjot/miniconda3/envs/devito/lib/python3.8/site-packages (from matplotlib; python_version >= \"3.6\"->livelossplot) (1.1.0)\n",
      "Requirement already satisfied: jedi>=0.10 in /Users/navjot/miniconda3/envs/devito/lib/python3.8/site-packages (from ipython->livelossplot) (0.16.0)\n",
      "Requirement already satisfied: prompt-toolkit!=3.0.0,!=3.0.1,<3.1.0,>=2.0.0 in /Users/navjot/miniconda3/envs/devito/lib/python3.8/site-packages (from ipython->livelossplot) (3.0.4)\n",
      "Requirement already satisfied: appnope; sys_platform == \"darwin\" in /Users/navjot/miniconda3/envs/devito/lib/python3.8/site-packages (from ipython->livelossplot) (0.1.0)\n",
      "Requirement already satisfied: setuptools>=18.5 in /Users/navjot/miniconda3/envs/devito/lib/python3.8/site-packages (from ipython->livelossplot) (46.0.0.post20200309)\n",
      "Requirement already satisfied: traitlets>=4.2 in /Users/navjot/miniconda3/envs/devito/lib/python3.8/site-packages (from ipython->livelossplot) (4.3.3)\n",
      "Requirement already satisfied: pickleshare in /Users/navjot/miniconda3/envs/devito/lib/python3.8/site-packages (from ipython->livelossplot) (0.7.5)\n",
      "Requirement already satisfied: pygments in /Users/navjot/miniconda3/envs/devito/lib/python3.8/site-packages (from ipython->livelossplot) (2.6.1)\n",
      "Requirement already satisfied: backcall in /Users/navjot/miniconda3/envs/devito/lib/python3.8/site-packages (from ipython->livelossplot) (0.1.0)\n",
      "Requirement already satisfied: pexpect; sys_platform != \"win32\" in /Users/navjot/miniconda3/envs/devito/lib/python3.8/site-packages (from ipython->livelossplot) (4.8.0)\n",
      "Requirement already satisfied: decorator in /Users/navjot/miniconda3/envs/devito/lib/python3.8/site-packages (from ipython->livelossplot) (4.4.2)\n",
      "Requirement already satisfied: parso>=0.5.2 in /Users/navjot/miniconda3/envs/devito/lib/python3.8/site-packages (from jedi>=0.10->ipython->livelossplot) (0.6.2)\n",
      "Requirement already satisfied: wcwidth in /Users/navjot/miniconda3/envs/devito/lib/python3.8/site-packages (from prompt-toolkit!=3.0.0,!=3.0.1,<3.1.0,>=2.0.0->ipython->livelossplot) (0.1.8)\n",
      "Requirement already satisfied: ipython-genutils in /Users/navjot/miniconda3/envs/devito/lib/python3.8/site-packages (from traitlets>=4.2->ipython->livelossplot) (0.2.0)\n",
      "Requirement already satisfied: ptyprocess>=0.5 in /Users/navjot/miniconda3/envs/devito/lib/python3.8/site-packages (from pexpect; sys_platform != \"win32\"->ipython->livelossplot) (0.6.0)\n",
      "Installing collected packages: torchvision\n",
      "Successfully installed torchvision-0.5.0\n",
      "Populating the interactive namespace from numpy and matplotlib\n"
     ]
    },
    {
     "name": "stderr",
     "output_type": "stream",
     "text": [
      "/Users/navjot/miniconda3/envs/devito/lib/python3.8/site-packages/IPython/core/magics/pylab.py:159: UserWarning: pylab import has clobbered these variables: ['seed']\n",
      "`%matplotlib` prevents importing * from pylab and numpy\n",
      "  warn(\"pylab import has clobbered these variables: %s\"  % clobbered +\n"
     ]
    }
   ],
   "source": [
    "!pip install pycm livelossplot torchvision\n",
    "%pylab inline"
   ]
  },
  {
   "cell_type": "markdown",
   "metadata": {
    "colab_type": "text",
    "id": "En9dBOn0hzPL"
   },
   "source": [
    "# ACSE Module 8 - Practical - Morning Session 3:\n",
    "----\n",
    "# Training Deep Neural Networks - Crossvalidation"
   ]
  },
  {
   "cell_type": "markdown",
   "metadata": {
    "colab_type": "text",
    "id": "rGURJ5EBhzPO"
   },
   "source": [
    "In this exercise you will use cross-validation to estimate the hyperparameters of a deep-neural network trained on the MNIST dataset and create predictions on the MNIST datasets public test set."
   ]
  },
  {
   "cell_type": "markdown",
   "metadata": {
    "colab_type": "text",
    "id": "MXJ6R5CBhzPQ"
   },
   "source": [
    "#### A few imports before we get started"
   ]
  },
  {
   "cell_type": "code",
   "execution_count": 18,
   "metadata": {
    "colab": {
     "base_uri": "https://localhost:8080/",
     "height": 35
    },
    "colab_type": "code",
    "id": "5-tUzUV2hzPU",
    "outputId": "2645c5e5-8149-4585-93b0-9ea2e2b50045"
   },
   "outputs": [
    {
     "name": "stdout",
     "output_type": "stream",
     "text": [
      "No GPU available!\n"
     ]
    }
   ],
   "source": [
    "from sklearn.metrics import accuracy_score\n",
    "from sklearn.model_selection import StratifiedShuffleSplit\n",
    "\n",
    "from livelossplot import PlotLosses\n",
    "from pycm import *\n",
    "\n",
    "import random\n",
    "import numpy as np\n",
    "import torch\n",
    "import torch.nn as nn\n",
    "import torch.nn.functional as F\n",
    "from torch.utils.data import TensorDataset, DataLoader\n",
    "import torchvision.transforms as transforms\n",
    "from torchvision.datasets import MNIST\n",
    "\n",
    "\n",
    "def set_seed(seed):\n",
    "    \"\"\"\n",
    "    Use this to set ALL the random seeds to a fixed value and take out any randomness from cuda kernels\n",
    "    \"\"\"\n",
    "    random.seed(seed)\n",
    "    np.random.seed(seed)\n",
    "    torch.manual_seed(seed)\n",
    "    torch.cuda.manual_seed_all(seed)\n",
    "\n",
    "    torch.backends.cudnn.benchmark = False  ##uses the inbuilt cudnn auto-tuner to find the fastest convolution algorithms. -\n",
    "    torch.backends.cudnn.enabled   = False\n",
    "\n",
    "    return True\n",
    "\n",
    "device = 'cpu'\n",
    "if torch.cuda.device_count() > 0 and torch.cuda.is_available():\n",
    "    print(\"Cuda installed! Running on GPU!\")\n",
    "    device = 'cuda'\n",
    "else:\n",
    "    print(\"No GPU available!\")"
   ]
  },
  {
   "cell_type": "markdown",
   "metadata": {
    "colab_type": "text",
    "id": "6tLRNHc8GOfR"
   },
   "source": [
    "### Mounting the google drive for later storage"
   ]
  },
  {
   "cell_type": "code",
   "execution_count": 2,
   "metadata": {
    "colab": {
     "base_uri": "https://localhost:8080/",
     "height": 35
    },
    "colab_type": "code",
    "id": "Dg3oP6GHGOsX",
    "outputId": "6a41c0a3-585b-4278-ae68-f933ab5850dd"
   },
   "outputs": [
    {
     "ename": "ModuleNotFoundError",
     "evalue": "No module named 'google'",
     "output_type": "error",
     "traceback": [
      "\u001b[0;31m---------------------------------------------------------------------------\u001b[0m",
      "\u001b[0;31mModuleNotFoundError\u001b[0m                       Traceback (most recent call last)",
      "\u001b[0;32m<ipython-input-2-9a9a89271754>\u001b[0m in \u001b[0;36m<module>\u001b[0;34m\u001b[0m\n\u001b[0;32m----> 1\u001b[0;31m \u001b[0;32mfrom\u001b[0m \u001b[0mgoogle\u001b[0m\u001b[0;34m.\u001b[0m\u001b[0mcolab\u001b[0m \u001b[0;32mimport\u001b[0m \u001b[0mdrive\u001b[0m\u001b[0;34m\u001b[0m\u001b[0;34m\u001b[0m\u001b[0m\n\u001b[0m\u001b[1;32m      2\u001b[0m \u001b[0mdrive\u001b[0m\u001b[0;34m.\u001b[0m\u001b[0mmount\u001b[0m\u001b[0;34m(\u001b[0m\u001b[0;34m'/content/gdrive/'\u001b[0m\u001b[0;34m)\u001b[0m\u001b[0;34m\u001b[0m\u001b[0;34m\u001b[0m\u001b[0m\n",
      "\u001b[0;31mModuleNotFoundError\u001b[0m: No module named 'google'"
     ]
    }
   ],
   "source": [
    "from google.colab import drive\n",
    "drive.mount('/content/gdrive/')"
   ]
  },
  {
   "cell_type": "markdown",
   "metadata": {
    "colab_type": "text",
    "id": "y_UioFmvFIDw"
   },
   "source": [
    "### The MNIST Dataset - Hello World of Deep-Learning"
   ]
  },
  {
   "cell_type": "code",
   "execution_count": 3,
   "metadata": {
    "colab": {},
    "colab_type": "code",
    "id": "3K-yVuQvhzPs"
   },
   "outputs": [
    {
     "name": "stderr",
     "output_type": "stream",
     "text": [
      "\r",
      "0.0%"
     ]
    },
    {
     "name": "stdout",
     "output_type": "stream",
     "text": [
      "Downloading http://yann.lecun.com/exdb/mnist/train-images-idx3-ubyte.gz to ./MNIST/raw/train-images-idx3-ubyte.gz\n"
     ]
    },
    {
     "name": "stderr",
     "output_type": "stream",
     "text": [
      "100.1%"
     ]
    },
    {
     "name": "stdout",
     "output_type": "stream",
     "text": [
      "Extracting ./MNIST/raw/train-images-idx3-ubyte.gz to ./MNIST/raw\n"
     ]
    },
    {
     "name": "stderr",
     "output_type": "stream",
     "text": [
      "28.4%"
     ]
    },
    {
     "name": "stdout",
     "output_type": "stream",
     "text": [
      "Downloading http://yann.lecun.com/exdb/mnist/train-labels-idx1-ubyte.gz to ./MNIST/raw/train-labels-idx1-ubyte.gz\n"
     ]
    },
    {
     "name": "stderr",
     "output_type": "stream",
     "text": [
      "0.5%5%"
     ]
    },
    {
     "name": "stdout",
     "output_type": "stream",
     "text": [
      "Extracting ./MNIST/raw/train-labels-idx1-ubyte.gz to ./MNIST/raw\n",
      "Downloading http://yann.lecun.com/exdb/mnist/t10k-images-idx3-ubyte.gz to ./MNIST/raw/t10k-images-idx3-ubyte.gz\n"
     ]
    },
    {
     "name": "stderr",
     "output_type": "stream",
     "text": [
      "100.4%"
     ]
    },
    {
     "name": "stdout",
     "output_type": "stream",
     "text": [
      "Extracting ./MNIST/raw/t10k-images-idx3-ubyte.gz to ./MNIST/raw\n",
      "Downloading http://yann.lecun.com/exdb/mnist/t10k-labels-idx1-ubyte.gz to ./MNIST/raw/t10k-labels-idx1-ubyte.gz\n"
     ]
    },
    {
     "name": "stderr",
     "output_type": "stream",
     "text": [
      "180.4%"
     ]
    },
    {
     "name": "stdout",
     "output_type": "stream",
     "text": [
      "Extracting ./MNIST/raw/t10k-labels-idx1-ubyte.gz to ./MNIST/raw\n",
      "Processing...\n",
      "Done!\n"
     ]
    }
   ],
   "source": [
    "mnist_train = MNIST(\"./\", download=True, train=True)\n",
    "mnist_test = MNIST(\"./\", download=True, train=False)"
   ]
  },
  {
   "cell_type": "markdown",
   "metadata": {
    "colab_type": "text",
    "id": "ZIKWFh11AK_Y"
   },
   "source": [
    "### Instantiate and create a ```StratifiedShuffleSplit``` using sklearn.\n",
    "1. Create a ```sklearn.model_selection.StratifiedShuffleSplit``` object with 1-split and a test-size of 10%.\n",
    "2. Get the training and validation indices from the shuffel-split "
   ]
  },
  {
   "cell_type": "code",
   "execution_count": 4,
   "metadata": {
    "colab": {
     "base_uri": "https://localhost:8080/",
     "height": 89
    },
    "colab_type": "code",
    "id": "5zHKxYrY_15l",
    "outputId": "c0a5756e-141c-4b2c-ff18-34b80a388be1"
   },
   "outputs": [
    {
     "name": "stderr",
     "output_type": "stream",
     "text": [
      "/Users/navjot/miniconda3/envs/devito/lib/python3.8/site-packages/torchvision/datasets/mnist.py:55: UserWarning: train_data has been renamed data\n",
      "  warnings.warn(\"train_data has been renamed data\")\n",
      "/Users/navjot/miniconda3/envs/devito/lib/python3.8/site-packages/torchvision/datasets/mnist.py:45: UserWarning: train_labels has been renamed targets\n",
      "  warnings.warn(\"train_labels has been renamed targets\")\n"
     ]
    }
   ],
   "source": [
    "shuffler = StratifiedShuffleSplit(n_splits=1, test_size=0.1, random_state=42).split(mnist_train.train_data, mnist_train.train_labels)\n",
    "indices = [(train_idx, validation_idx) for train_idx, validation_idx in shuffler][0]"
   ]
  },
  {
   "cell_type": "markdown",
   "metadata": {
    "colab_type": "text",
    "id": "euZacTUtALq7"
   },
   "source": [
    "### Splitting and normalize the data\n",
    "The original mnist data is given in gray-scale values between 0 and 255.\n",
    "You will need to write a normalisation method that takes in a ```torch.Tensor``` and performs normalisation.\n",
    "The mean of MNIST is 0.1307 and it's standard deviation is 0.3081 (after division by 255).\n",
    "\n",
    "Finally, torch likes all categorical data to be in a ```.long()``` format.\n",
    "Therefore\n"
   ]
  },
  {
   "cell_type": "code",
   "execution_count": 5,
   "metadata": {
    "colab": {},
    "colab_type": "code",
    "id": "BY7_QOdPIDXm"
   },
   "outputs": [],
   "source": [
    "def apply_normalization(X):\n",
    "  X /= 255.\n",
    "  X -= 0.1307\n",
    "  X /= 0.3081\n",
    "  return X"
   ]
  },
  {
   "cell_type": "code",
   "execution_count": 6,
   "metadata": {
    "colab": {
     "base_uri": "https://localhost:8080/",
     "height": 161
    },
    "colab_type": "code",
    "id": "C33RJWTM_12w",
    "outputId": "a6c3a27d-272b-42ab-ef86-da7254d2dcb8"
   },
   "outputs": [
    {
     "name": "stderr",
     "output_type": "stream",
     "text": [
      "/Users/navjot/miniconda3/envs/devito/lib/python3.8/site-packages/torchvision/datasets/mnist.py:55: UserWarning: train_data has been renamed data\n",
      "  warnings.warn(\"train_data has been renamed data\")\n",
      "/Users/navjot/miniconda3/envs/devito/lib/python3.8/site-packages/torchvision/datasets/mnist.py:45: UserWarning: train_labels has been renamed targets\n",
      "  warnings.warn(\"train_labels has been renamed targets\")\n",
      "/Users/navjot/miniconda3/envs/devito/lib/python3.8/site-packages/torchvision/datasets/mnist.py:60: UserWarning: test_data has been renamed data\n",
      "  warnings.warn(\"test_data has been renamed data\")\n",
      "/Users/navjot/miniconda3/envs/devito/lib/python3.8/site-packages/torchvision/datasets/mnist.py:50: UserWarning: test_labels has been renamed targets\n",
      "  warnings.warn(\"test_labels has been renamed targets\")\n"
     ]
    }
   ],
   "source": [
    "X_train, y_train = apply_normalization(mnist_train.train_data[indices[0]].float()), mnist_train.train_labels[indices[0]]\n",
    "X_val, y_val = apply_normalization(mnist_train.train_data[indices[1]].float()), mnist_train.train_labels[indices[1]]\n",
    "X_test, y_test =  apply_normalization(mnist_test.test_data.float()), mnist_test.test_labels"
   ]
  },
  {
   "cell_type": "markdown",
   "metadata": {
    "colab_type": "text",
    "id": "RM9owG-yAMLv"
   },
   "source": [
    "### Instantiate a ```torch.utils.data.TensorDataset``` for training, validation and test data"
   ]
  },
  {
   "cell_type": "code",
   "execution_count": 7,
   "metadata": {
    "colab": {},
    "colab_type": "code",
    "id": "9IjL4N-P_1zV"
   },
   "outputs": [],
   "source": [
    "mnist_train = TensorDataset(X_train, y_train.long())\n",
    "mnist_validate = TensorDataset(X_val, y_val.long())\n",
    "mnist_test = TensorDataset(X_test, y_test.long())"
   ]
  },
  {
   "cell_type": "markdown",
   "metadata": {
    "colab_type": "text",
    "id": "LZ2qMRUGAEUA"
   },
   "source": [
    "Let's visualise an example of the images and check whether the data is normalised properly (compute .mean() and .std() on the training set.)"
   ]
  },
  {
   "cell_type": "code",
   "execution_count": 10,
   "metadata": {
    "colab": {
     "base_uri": "https://localhost:8080/",
     "height": 287
    },
    "colab_type": "code",
    "id": "JVlMiRAmoh0O",
    "outputId": "9b86fca4-206b-4eef-ae38-12cfdb23e761"
   },
   "outputs": [
    {
     "name": "stdout",
     "output_type": "stream",
     "text": [
      "tensor(9.8159e-05) tensor(1.0003)\n"
     ]
    },
    {
     "data": {
      "image/png": "[encoded data removed]",
      "text/plain": [
       "<Figure size 432x288 with 1 Axes>"
      ]
     },
     "metadata": {
      "needs_background": "light"
     },
     "output_type": "display_data"
    }
   ],
   "source": [
    "import matplotlib.pyplot as plt\n",
    "\n",
    "\n",
    "plt.imshow(X_train[0])\n",
    "print(X_train.mean(), X_train.std())"
   ]
  },
  {
   "cell_type": "markdown",
   "metadata": {
    "colab_type": "text",
    "id": "pQScGYoWSZtj"
   },
   "source": [
    "### Create a SimpleNet as a ```nn.Module```\n",
    "Create a simple feed-forward neural network with the following architecture:\n",
    "- Input Layer: 28*28 neurons\n",
    "- Hidden Layer: 25 neurons\n",
    "- Output Layer: 10 neurons\n",
    "- Hidden Layer Activation: ReLU\n",
    "- Output Layer Activation: None\n"
   ]
  },
  {
   "cell_type": "code",
   "execution_count": 11,
   "metadata": {
    "colab": {},
    "colab_type": "code",
    "id": "OPxocj_ihzP2"
   },
   "outputs": [],
   "source": [
    "class SimpleNet(nn.Module):\n",
    "    def __init__(self):\n",
    "        super(SimpleNet, self).__init__()\n",
    "        self.linear_1 = nn.Linear(28*28, 25)\n",
    "        self.linear_2 = nn.Linear(25, 10)\n",
    "        self.activation = nn.ReLU()\n",
    "        \n",
    "    def forward(self, x):\n",
    "        z1 = self.linear_1(x)\n",
    "        a1 = self.activation(z1)\n",
    "        z2 = self.linear_2(a1)\n",
    "        return z2"
   ]
  },
  {
   "cell_type": "markdown",
   "metadata": {
    "colab_type": "text",
    "id": "3TYLEVrsANtX"
   },
   "source": [
    "### Sanity checks on our SimpleNet\n"
   ]
  },
  {
   "cell_type": "code",
   "execution_count": 12,
   "metadata": {
    "colab": {
     "base_uri": "https://localhost:8080/",
     "height": 71
    },
    "colab_type": "code",
    "id": "cPxBHE2MhzQA",
    "outputId": "1cec26a8-c336-4405-c5dd-be79c6a574e4"
   },
   "outputs": [
    {
     "name": "stdout",
     "output_type": "stream",
     "text": [
      "tensor([[-2.3947, -2.3068, -2.0824, -2.6213, -2.3801, -2.5030, -2.4592, -2.1880,\n",
      "         -1.9526, -2.3234]], grad_fn=<LogSoftmaxBackward>)\n",
      "tensor([8])\n"
     ]
    }
   ],
   "source": [
    "model = SimpleNet().to(device)\n",
    "criterion = nn.CrossEntropyLoss()\n",
    "\n",
    "X_ = X_train[0].view(-1, 28*28).to(device)\n",
    "y_ = torch.zeros((1)).to(device).long()\n",
    "\n",
    "a2 = model(X_)\n",
    "loss = criterion(a2, y_)\n",
    "\n",
    "y_pred = F.log_softmax(a2, dim=1).max(1)[1]\n",
    "\n",
    "print(F.log_softmax(a2, dim=1))\n",
    "print(y_pred)"
   ]
  },
  {
   "cell_type": "markdown",
   "metadata": {
    "colab_type": "text",
    "id": "bcFPI8XKAOtl"
   },
   "source": [
    "### Create simple train function\n",
    "\n",
    "The function should perform the following tasks:\n",
    "1. Set the model into training mode\n",
    "2. Iterate over all the mini-batches\n",
    "3. Send the batches to the GPU / CPU\n",
    "4. Zero all the gradients\n",
    "5. Perform the forward-pass\n",
    "6. Compute the loss\n",
    "7. Perform the backward-pass\n",
    "8. Keep a running measure of training loss and accuracy\n",
    "9. Perform a step of gradient-descent\n",
    "10. Once done with all batches, return average training loss and accuracy"
   ]
  },
  {
   "cell_type": "code",
   "execution_count": 13,
   "metadata": {
    "colab": {},
    "colab_type": "code",
    "id": "FRrehKxjhzQQ"
   },
   "outputs": [],
   "source": [
    "def train(model, optimizer, criterion, data_loader):\n",
    "    model.train()\n",
    "    train_loss, train_accuracy = 0, 0\n",
    "    for X, y in data_loader:\n",
    "        X, y = X.to(device), y.to(device)\n",
    "        optimizer.zero_grad()\n",
    "        a2 = model(X.view(-1, 28*28))\n",
    "        loss = criterion(a2, y)\n",
    "        loss.backward()\n",
    "        train_loss += loss*X.size(0)\n",
    "        y_pred = F.log_softmax(a2, dim=1).max(1)[1]\n",
    "        train_accuracy += accuracy_score(y.cpu().numpy(), y_pred.detach().cpu().numpy())*X.size(0)\n",
    "        optimizer.step()  \n",
    "        \n",
    "    return train_loss/len(data_loader.dataset), train_accuracy/len(data_loader.dataset)"
   ]
  },
  {
   "cell_type": "markdown",
   "metadata": {
    "colab_type": "text",
    "id": "9ZyumfW0AQDE"
   },
   "source": [
    "### Create simple validate function\n",
    "\n",
    "The function should perform the following tasks:\n",
    "1. Set the model into evaluation mode\n",
    "2. Iterate over all the mini-batches\n",
    "3. Send the batches to the GPU / CPU\n",
    "5. Perform the forward-pass\n",
    "6. Compute the loss\n",
    "8. Keep a running measure of validation loss and accuracy\n",
    "10. Once done with all batches, return average validation loss and accuracy"
   ]
  },
  {
   "cell_type": "code",
   "execution_count": 14,
   "metadata": {
    "colab": {},
    "colab_type": "code",
    "id": "Br0jvB7-hzQZ",
    "scrolled": false
   },
   "outputs": [],
   "source": [
    "def validate(model, criterion, data_loader):\n",
    "    model.eval()\n",
    "    validation_loss, validation_accuracy = 0., 0.\n",
    "    for X, y in data_loader:\n",
    "        with torch.no_grad():\n",
    "            X, y = X.to(device), y.to(device)\n",
    "            a2 = model(X.view(-1, 28*28))\n",
    "            loss = criterion(a2, y)\n",
    "            validation_loss += loss*X.size(0)\n",
    "            y_pred = F.log_softmax(a2, dim=1).max(1)[1]\n",
    "            validation_accuracy += accuracy_score(y.cpu().numpy(), y_pred.cpu().numpy())*X.size(0)\n",
    "            \n",
    "    return validation_loss/len(data_loader.dataset), validation_accuracy/len(data_loader.dataset)"
   ]
  },
  {
   "cell_type": "markdown",
   "metadata": {
    "colab_type": "text",
    "id": "i_pehihNAQ9E"
   },
   "source": [
    " ### Set the hyperparameters of your model\n",
    "- Seed: 42\n",
    "- learning rate: 1e-2\n",
    "- Optimizer: SGD\n",
    "- momentum: 0.9\n",
    "- Number of Epochs: 30\n",
    "- Batchsize: 64\n",
    "- Test Batch Size (no effect on training apart from time): 1000\n",
    "- Shuffle the training set every epoch: Yes"
   ]
  },
  {
   "cell_type": "code",
   "execution_count": 15,
   "metadata": {
    "colab": {},
    "colab_type": "code",
    "id": "Zvp3L6IGhzQj"
   },
   "outputs": [],
   "source": [
    "seed = 42\n",
    "lr = 1e-2\n",
    "momentum = 0.9\n",
    "batch_size = 64\n",
    "test_batch_size = 1000\n",
    "n_epochs = 30"
   ]
  },
  {
   "cell_type": "markdown",
   "metadata": {
    "colab_type": "text",
    "id": "-QgnLf8fJ8nG"
   },
   "source": [
    "### Instantiate our model, optimizer and loss function\n",
    "Set the random number generator seed using ```set_seed``` to make everything reproducible.\n",
    "As a criterion use a sensible loss for the multi-class classification problem."
   ]
  },
  {
   "cell_type": "code",
   "execution_count": 19,
   "metadata": {
    "colab": {},
    "colab_type": "code",
    "id": "6fKO9Q-sJ8uW"
   },
   "outputs": [],
   "source": [
    "set_seed(seed)\n",
    "model = SimpleNet().to(device)\n",
    "optimizer = torch.optim.SGD(model.parameters(), lr=lr, momentum=momentum)\n",
    "criterion = nn.CrossEntropyLoss()"
   ]
  },
  {
   "cell_type": "markdown",
   "metadata": {
    "colab_type": "text",
    "id": "ZfBaeCSiASt7"
   },
   "source": [
    "### Create dataloaders for the training, validation and test data"
   ]
  },
  {
   "cell_type": "code",
   "execution_count": 20,
   "metadata": {
    "colab": {},
    "colab_type": "code",
    "id": "1OkfIQO5ATUM"
   },
   "outputs": [],
   "source": [
    "train_loader = DataLoader(mnist_train, batch_size=batch_size, shuffle=True, num_workers=0)\n",
    "validation_loader = DataLoader(mnist_validate, batch_size=test_batch_size, shuffle=False, num_workers=0)\n",
    "test_loader = DataLoader(mnist_test, batch_size=test_batch_size, shuffle=False, num_workers=0)"
   ]
  },
  {
   "cell_type": "markdown",
   "metadata": {
    "colab_type": "text",
    "id": "NMEpCuC1EEFw"
   },
   "source": [
    "### Perform the training of the network and validation\n",
    "Here we provide you with a method to visualize both training and validation loss while training your networks."
   ]
  },
  {
   "cell_type": "code",
   "execution_count": 21,
   "metadata": {
    "colab": {
     "base_uri": "https://localhost:8080/",
     "height": 452
    },
    "colab_type": "code",
    "id": "w9txG8N2hzQt",
    "outputId": "cfe6c275-dcdf-4b26-8424-b044ca0b8d6d"
   },
   "outputs": [
    {
     "data": {
      "image/png": "[encoded data removed]",
      "text/plain": [
       "<Figure size 864x576 with 2 Axes>"
      ]
     },
     "metadata": {
      "needs_background": "light"
     },
     "output_type": "display_data"
    },
    {
     "name": "stdout",
     "output_type": "stream",
     "text": [
      "accuracy\n",
      "\ttraining         \t (min:    0.905, max:    0.987, cur:    0.987)\n",
      "\tvalidation       \t (min:    0.940, max:    0.961, cur:    0.957)\n",
      "log loss\n",
      "\ttraining         \t (min:    0.040, max:    0.324, cur:    0.040)\n",
      "\tvalidation       \t (min:    0.141, max:    0.211, cur:    0.200)\n"
     ]
    }
   ],
   "source": [
    "liveloss = PlotLosses()\n",
    "for epoch in range(30):\n",
    "    logs = {}\n",
    "    train_loss, train_accuracy = train(model, optimizer, criterion, train_loader)\n",
    "\n",
    "    logs['' + 'log loss'] = train_loss.item()\n",
    "    logs['' + 'accuracy'] = train_accuracy.item()\n",
    "    \n",
    "    validation_loss, validation_accuracy = validate(model, criterion, validation_loader)\n",
    "    logs['val_' + 'log loss'] = validation_loss.item()\n",
    "    logs['val_' + 'accuracy'] = validation_accuracy.item()\n",
    "    \n",
    "    liveloss.update(logs)\n",
    "    liveloss.draw()"
   ]
  },
  {
   "cell_type": "markdown",
   "metadata": {
    "colab_type": "text",
    "id": "5kPt1sm8Mm_q"
   },
   "source": [
    "It seems the model isn't doing very well. Maybe we can do better.\n",
    "Run a grid search over the momentum value, use the following: momentum = [0.1, 0.5, 0.9]\n",
    "and run the model on the full training set with the best value for the momentum parameter."
   ]
  },
  {
   "cell_type": "code",
   "execution_count": 22,
   "metadata": {
    "colab": {},
    "colab_type": "code",
    "id": "cVIuIJuTM2Ro"
   },
   "outputs": [],
   "source": [
    "def train_model(momentum):\n",
    "  set_seed(seed)\n",
    "  model = SimpleNet().to(device)\n",
    "  optimizer = torch.optim.SGD(model.parameters(), lr=lr, momentum=momentum)\n",
    "  criterion = nn.CrossEntropyLoss()\n",
    "  \n",
    "  train_loader = DataLoader(mnist_train, batch_size=batch_size, shuffle=True, num_workers=0)\n",
    "  validation_loader = DataLoader(mnist_validate, batch_size=test_batch_size, shuffle=False, num_workers=0)\n",
    "  test_loader = DataLoader(mnist_test, batch_size=test_batch_size, shuffle=False, num_workers=0)\n",
    "  \n",
    "  liveloss = PlotLosses()\n",
    "  for epoch in range(30):\n",
    "      logs = {}\n",
    "      train_loss, train_accuracy = train(model, optimizer, criterion, train_loader)\n",
    "\n",
    "      logs['' + 'log loss'] = train_loss.item()\n",
    "      logs['' + 'accuracy'] = train_accuracy.item()\n",
    "\n",
    "      validation_loss, validation_accuracy = validate(model, criterion, validation_loader)\n",
    "      logs['val_' + 'log loss'] = validation_loss.item()\n",
    "      logs['val_' + 'accuracy'] = validation_accuracy.item()\n",
    "\n",
    "      liveloss.update(logs)\n",
    "      liveloss.draw()\n",
    "      \n",
    "  return True"
   ]
  },
  {
   "cell_type": "code",
   "execution_count": 23,
   "metadata": {
    "colab": {
     "base_uri": "https://localhost:8080/",
     "height": 470
    },
    "colab_type": "code",
    "id": "0G3oP1vPNE2O",
    "outputId": "51d041b1-e416-4d63-ac26-5e7c8051415d"
   },
   "outputs": [
    {
     "data": {
      "image/png": "[encoded data removed]",
      "text/plain": [
       "<Figure size 864x576 with 2 Axes>"
      ]
     },
     "metadata": {
      "needs_background": "light"
     },
     "output_type": "display_data"
    },
    {
     "name": "stdout",
     "output_type": "stream",
     "text": [
      "accuracy\n",
      "\ttraining         \t (min:    0.844, max:    0.987, cur:    0.974)\n",
      "\tvalidation       \t (min:    0.903, max:    0.961, cur:    0.959)\n",
      "log loss\n",
      "\ttraining         \t (min:    0.040, max:    0.613, cur:    0.091)\n",
      "\tvalidation       \t (min:    0.141, max:    0.355, cur:    0.141)\n"
     ]
    },
    {
     "data": {
      "text/plain": [
       "True"
      ]
     },
     "execution_count": 23,
     "metadata": {},
     "output_type": "execute_result"
    }
   ],
   "source": [
    "train_model(0.1)"
   ]
  },
  {
   "cell_type": "code",
   "execution_count": 24,
   "metadata": {
    "colab": {
     "base_uri": "https://localhost:8080/",
     "height": 470
    },
    "colab_type": "code",
    "id": "EA9rn-x3NFEP",
    "outputId": "07834c00-7057-41de-ac02-155cdabcf362"
   },
   "outputs": [
    {
     "data": {
      "image/png": "[encoded data removed]",
      "text/plain": [
       "<Figure size 864x576 with 2 Axes>"
      ]
     },
     "metadata": {
      "needs_background": "light"
     },
     "output_type": "display_data"
    },
    {
     "name": "stdout",
     "output_type": "stream",
     "text": [
      "accuracy\n",
      "\ttraining         \t (min:    0.844, max:    0.987, cur:    0.980)\n",
      "\tvalidation       \t (min:    0.903, max:    0.961, cur:    0.961)\n",
      "log loss\n",
      "\ttraining         \t (min:    0.040, max:    0.613, cur:    0.069)\n",
      "\tvalidation       \t (min:    0.137, max:    0.355, cur:    0.137)\n"
     ]
    },
    {
     "data": {
      "text/plain": [
       "True"
      ]
     },
     "execution_count": 24,
     "metadata": {},
     "output_type": "execute_result"
    }
   ],
   "source": [
    "train_model(0.5)"
   ]
  },
  {
   "cell_type": "code",
   "execution_count": 25,
   "metadata": {
    "colab": {
     "base_uri": "https://localhost:8080/",
     "height": 470
    },
    "colab_type": "code",
    "id": "82leJRKPNFOk",
    "outputId": "47733524-9380-4df6-d09e-4e0c3a6e1307"
   },
   "outputs": [
    {
     "data": {
      "image/png": "[encoded data removed]",
      "text/plain": [
       "<Figure size 864x576 with 2 Axes>"
      ]
     },
     "metadata": {
      "needs_background": "light"
     },
     "output_type": "display_data"
    },
    {
     "name": "stdout",
     "output_type": "stream",
     "text": [
      "accuracy\n",
      "\ttraining         \t (min:    0.844, max:    0.987, cur:    0.987)\n",
      "\tvalidation       \t (min:    0.903, max:    0.961, cur:    0.957)\n",
      "log loss\n",
      "\ttraining         \t (min:    0.040, max:    0.613, cur:    0.040)\n",
      "\tvalidation       \t (min:    0.137, max:    0.355, cur:    0.200)\n"
     ]
    },
    {
     "data": {
      "text/plain": [
       "True"
      ]
     },
     "execution_count": 25,
     "metadata": {},
     "output_type": "execute_result"
    }
   ],
   "source": [
    "train_model(0.9)"
   ]
  },
  {
   "cell_type": "code",
   "execution_count": 29,
   "metadata": {
    "colab": {},
    "colab_type": "code",
    "id": "Tpq0M6qGOTy0"
   },
   "outputs": [],
   "source": [
    "best_momentum = 0.5"
   ]
  },
  {
   "cell_type": "markdown",
   "metadata": {
    "colab_type": "text",
    "id": "biyWFx8tAW9G"
   },
   "source": [
    "### Implement an evaluate method\n",
    "This method performs the same as validate but doesn't report losses, but simply returns all predictions on a given dataset (training, validation, test-set)"
   ]
  },
  {
   "cell_type": "code",
   "execution_count": 28,
   "metadata": {
    "colab": {},
    "colab_type": "code",
    "id": "1-MaI8F1hzQ7"
   },
   "outputs": [],
   "source": [
    "def evaluate(model, data_loader):\n",
    "    model.eval()\n",
    "    ys, y_preds = [], []\n",
    "    for X, y in data_loader:\n",
    "        with torch.no_grad():\n",
    "            X, y = X.to(device), y.to(device)\n",
    "            a2 = model(X.view(-1, 28*28))\n",
    "            y_pred = F.log_softmax(a2, dim=1).max(1)[1]\n",
    "            ys.append(y.cpu().numpy())\n",
    "            y_preds.append(y_pred.cpu().numpy())\n",
    "            \n",
    "    return np.concatenate(y_preds, 0),  np.concatenate(ys, 0)\n",
    "\n",
    "y_pred, y_gt = evaluate(model, validation_loader)"
   ]
  },
  {
   "cell_type": "markdown",
   "metadata": {
    "colab_type": "text",
    "id": "keGazNqkAXw9"
   },
   "source": [
    "### Plotting a confusion matrix\n",
    "\n",
    "We can use a confusion matrix to diagnose problems in our models.\n",
    "We may see for example that our model confuses 9's for 4's quite often."
   ]
  },
  {
   "cell_type": "code",
   "execution_count": 29,
   "metadata": {
    "colab": {
     "base_uri": "https://localhost:8080/",
     "height": 2449
    },
    "colab_type": "code",
    "id": "SWtJhZnDhzRE",
    "outputId": "c8424d84-e340-4665-bbc4-748220313301",
    "scrolled": false
   },
   "outputs": [
    {
     "name": "stdout",
     "output_type": "stream",
     "text": [
      "Predict   0         1         2         3         4         5         6         7         8         9         \n",
      "Actual\n",
      "0         585       1         1         0         0         1         1         0         2         1         \n",
      "\n",
      "1         0         666       2         2         0         0         0         0         2         2         \n",
      "\n",
      "2         1         10        569       2         1         0         3         6         3         1         \n",
      "\n",
      "3         3         2         6         578       0         13        0         2         6         3         \n",
      "\n",
      "4         1         2         7         0         561       1         1         1         2         8         \n",
      "\n",
      "5         1         0         0         7         2         521       3         0         6         2         \n",
      "\n",
      "6         8         0         1         0         8         2         569       1         3         0         \n",
      "\n",
      "7         2         5         6         3         3         2         0         595       1         10        \n",
      "\n",
      "8         3         8         5         7         2         9         5         0         539       7         \n",
      "\n",
      "9         5         2         0         4         9         3         0         8         7         557       \n",
      "\n",
      "\n",
      "\n",
      "\n",
      "\n",
      "Overall Statistics : \n",
      "\n",
      "95% CI                                                            (0.95151,0.96182)\n",
      "ACC Macro                                                         0.99133\n",
      "ARI                                                               0.90695\n",
      "AUNP                                                              0.97593\n",
      "AUNU                                                              0.97576\n",
      "Bennett S                                                         0.95185\n",
      "CBA                                                               0.94823\n",
      "CSI                                                               0.91284\n",
      "Chi-Squared                                                       48915.63097\n",
      "Chi-Squared DF                                                    81\n",
      "Conditional Entropy                                               0.35977\n",
      "Cramer V                                                          0.95176\n",
      "Cross Entropy                                                     3.32016\n",
      "F1 Macro                                                          0.95633\n",
      "F1 Micro                                                          0.95667\n",
      "FNR Macro                                                         0.04366\n",
      "FNR Micro                                                         0.04333\n",
      "FPR Macro                                                         0.00481\n",
      "FPR Micro                                                         0.00481\n",
      "Gwet AC1                                                          0.95185\n",
      "Hamming Loss                                                      0.04333\n",
      "Joint Entropy                                                     3.67964\n",
      "KL Divergence                                                     0.00029\n",
      "Kappa                                                             0.95184\n",
      "Kappa 95% CI                                                      (0.94611,0.95756)\n",
      "Kappa No Prevalence                                               0.91333\n",
      "Kappa Standard Error                                              0.00292\n",
      "Kappa Unbiased                                                    0.95183\n",
      "Lambda A                                                          0.95118\n",
      "Lambda B                                                          0.95098\n",
      "Mutual Information                                                2.95958\n",
      "NIR                                                               0.11233\n",
      "Overall ACC                                                       0.95667\n",
      "Overall CEN                                                       0.08208\n",
      "Overall J                                                         (9.16604,0.9166)\n",
      "Overall MCC                                                       0.95186\n",
      "Overall MCEN                                                      0.13875\n",
      "Overall RACC                                                      0.10031\n",
      "Overall RACCU                                                     0.10032\n",
      "P-Value                                                           None\n",
      "PPV Macro                                                         0.9565\n",
      "PPV Micro                                                         0.95667\n",
      "Pearson C                                                         0.94379\n",
      "Phi-Squared                                                       8.15261\n",
      "RCI                                                               0.89148\n",
      "RR                                                                600.0\n",
      "Reference Entropy                                                 3.31987\n",
      "Response Entropy                                                  3.31935\n",
      "SOA1(Landis & Koch)                                               Almost Perfect\n",
      "SOA2(Fleiss)                                                      Excellent\n",
      "SOA3(Altman)                                                      Very Good\n",
      "SOA4(Cicchetti)                                                   Excellent\n",
      "SOA5(Cramer)                                                      Very Strong\n",
      "SOA6(Matthews)                                                    Very Strong\n",
      "Scott PI                                                          0.95183\n",
      "Standard Error                                                    0.00263\n",
      "TNR Macro                                                         0.99519\n",
      "TNR Micro                                                         0.99519\n",
      "TPR Macro                                                         0.95634\n",
      "TPR Micro                                                         0.95667\n",
      "Zero-one Loss                                                     260\n",
      "\n",
      "Class Statistics :\n",
      "\n",
      "Classes                                                           0             1             2             3             4             5             6             7             8             9             \n",
      "ACC(Accuracy)                                                     0.99483       0.99367       0.99083       0.99          0.992         0.99133       0.994         0.99167       0.987         0.988         \n",
      "AGF(Adjusted F-score)                                             0.99027       0.98966       0.97446       0.96964       0.97766       0.97656       0.98014       0.97368       0.95835       0.96486       \n",
      "AGM(Adjusted geometric mean)                                      0.99362       0.99271       0.98416       0.98135       0.98617       0.98559       0.98792       0.98392       0.97462       0.97834       \n",
      "AM(Difference between automatic and manual classification)        17            22            1             -10           2             10            -10           -14           -14           -4            \n",
      "AUC(Area under the ROC curve)                                     0.99187       0.99125       0.97476       0.96913       0.978         0.97779       0.97937       0.97281       0.95773       0.96492       \n",
      "AUCI(AUC value interpretation)                                    Excellent     Excellent     Excellent     Excellent     Excellent     Excellent     Excellent     Excellent     Excellent     Excellent     \n",
      "AUPR(Area under the PR curve)                                     0.97438       0.97251       0.9539        0.95072       0.95898       0.95255       0.96941       0.9598        0.93266       0.9393        \n",
      "BCD(Bray-Curtis dissimilarity)                                    0.00142       0.00183       8e-05         0.00083       0.00017       0.00083       0.00083       0.00117       0.00117       0.00033       \n",
      "BM(Informedness or bookmaker informedness)                        0.98374       0.9825        0.94952       0.93826       0.956         0.95557       0.95874       0.94561       0.91546       0.92984       \n",
      "CEN(Confusion entropy)                                            0.05352       0.05481       0.08797       0.09194       0.07795       0.08673       0.05949       0.07706       0.12564       0.11143       \n",
      "DOR(Diagnostic odds ratio)                                        18747.85714   14696.4       4046.22222    3541.984      5259.74087    4343.26728    10266.73913   5531.64063    1971.08492    2315.51625    \n",
      "DP(Discriminant power)                                            2.3558        2.2975        1.98867       1.9568        2.05148       2.00563       2.21162       2.06354       1.81647       1.85503       \n",
      "DPI(Discriminant power interpretation)                            Fair          Fair          Limited       Limited       Fair          Fair          Fair          Fair          Limited       Limited       \n",
      "ERR(Error rate)                                                   0.00517       0.00633       0.00917       0.01          0.008         0.00867       0.006         0.00833       0.013         0.012         \n",
      "F0.5(F0.5 score)                                                  0.96598       0.96298       0.95342       0.95537       0.95799       0.94727       0.97432       0.96622       0.93935       0.9412        \n",
      "F1(F1 score - harmonic mean of precision and sensitivity)         0.97419       0.97226       0.9539        0.95066       0.95897       0.95247       0.96934       0.95968       0.93253       0.93929       \n",
      "F2(F2 score)                                                      0.98253       0.98172       0.95438       0.94599       0.95996       0.95772       0.96441       0.95322       0.9258        0.93739       \n",
      "FDR(False discovery rate)                                         0.03941       0.0431        0.0469        0.04146       0.04266       0.05616       0.02234       0.02936       0.05604       0.05753       \n",
      "FN(False negative/miss/type 2 error)                              7             8             27            35            23            21            23            32            46            38            \n",
      "FNR(Miss rate or false negative rate)                             0.01182       0.01187       0.0453        0.0571        0.03938       0.03875       0.03885       0.05104       0.07863       0.06387       \n",
      "FOR(False omission rate)                                          0.0013        0.00151       0.005         0.00649       0.00425       0.00385       0.00425       0.00594       0.00847       0.00703       \n",
      "FP(False positive/type 1 error/false alarm)                       24            30            28            25            25            31            13            18            32            34            \n",
      "FPR(Fall-out or false positive rate)                              0.00444       0.00563       0.00518       0.00464       0.00462       0.00568       0.0024        0.00335       0.00591       0.00629       \n",
      "G(G-measure geometric mean of precision and sensitivity)          0.97429       0.97239       0.9539        0.95069       0.95898       0.95251       0.96937       0.95974       0.93259       0.9393        \n",
      "GI(Gini index)                                                    0.98374       0.9825        0.94952       0.93826       0.956         0.95557       0.95874       0.94561       0.91546       0.92984       \n",
      "GM(G-mean geometric mean of specificity and sensitivity)          0.99186       0.99124       0.97455       0.96878       0.97785       0.97765       0.9792        0.97251       0.95704       0.96449       \n",
      "IBA(Index of balanced accuracy)                                   0.97652       0.97644       0.91165       0.8893        0.92294       0.92419       0.92389       0.90068       0.84931       0.87669       \n",
      "ICSI(Individual classification success index)                     0.94877       0.94503       0.9078        0.90144       0.91795       0.9051        0.93881       0.9196        0.86533       0.8786        \n",
      "IS(Information score)                                             3.28329       3.09058       3.26228       3.22992       3.29802       3.38521       3.3087        3.21543       3.27525       3.24852       \n",
      "J(Jaccard index)                                                  0.94968       0.94602       0.91186       0.90596       0.92118       0.90925       0.9405        0.92248       0.87358       0.88553       \n",
      "LS(Lift score)                                                    9.73572       8.51837       9.59495       9.38213       9.83566       10.44842      9.90875       9.28838       9.68162       9.5039        \n",
      "MCC(Matthews correlation coefficient)                             0.97144       0.96885       0.94881       0.94513       0.95454       0.94775       0.96605       0.95511       0.92542       0.93264       \n",
      "MCCI(Matthews correlation coefficient interpretation)             Very Strong   Very Strong   Very Strong   Very Strong   Very Strong   Very Strong   Very Strong   Very Strong   Very Strong   Very Strong   \n",
      "MCEN(Modified confusion entropy)                                  0.09271       0.09423       0.14841       0.15424       0.13195       0.14528       0.10179       0.13061       0.20794       0.18499       \n",
      "MK(Markedness)                                                    0.95929       0.95539       0.9481        0.95206       0.95309       0.93999       0.97342       0.9647        0.93548       0.93545       \n",
      "N(Condition negative)                                             5408          5326          5404          5387          5416          5458          5408          5373          5415          5405          \n",
      "NLR(Negative likelihood ratio)                                    0.01188       0.01194       0.04554       0.05736       0.03957       0.03897       0.03894       0.05121       0.0791        0.06427       \n",
      "NLRI(Negative likelihood ratio interpretation)                    Good          Good          Good          Good          Good          Good          Good          Good          Good          Good          \n",
      "NPV(Negative predictive value)                                    0.9987        0.99849       0.995         0.99351       0.99575       0.99615       0.99575       0.99406       0.99153       0.99297       \n",
      "OC(Overlap coefficient)                                           0.98818       0.98813       0.9547        0.95854       0.96062       0.96125       0.97766       0.97064       0.94396       0.94247       \n",
      "OOC(Otsuka-Ochiai coefficient)                                    0.97429       0.97239       0.9539        0.95069       0.95898       0.95251       0.96937       0.95974       0.93259       0.9393        \n",
      "OP(Optimized precision)                                           0.99111       0.99052       0.97025       0.96294       0.97423       0.97442       0.97539       0.96716       0.94903       0.95817       \n",
      "P(Condition positive or support)                                  592           674           596           613           584           542           592           627           585           595           \n",
      "PLR(Positive likelihood ratio)                                    222.66892     175.42611     184.25671     203.1769      208.10795     169.24283     399.83784     283.26555     155.91266     148.81784     \n",
      "PLRI(Positive likelihood ratio interpretation)                    Good          Good          Good          Good          Good          Good          Good          Good          Good          Good          \n",
      "POP(Population)                                                   6000          6000          6000          6000          6000          6000          6000          6000          6000          6000          \n",
      "PPV(Precision or positive predictive value)                       0.96059       0.9569        0.9531        0.95854       0.95734       0.94384       0.97766       0.97064       0.94396       0.94247       \n",
      "PRE(Prevalence)                                                   0.09867       0.11233       0.09933       0.10217       0.09733       0.09033       0.09867       0.1045        0.0975        0.09917       \n",
      "Q(Yule Q - coefficient of colligation)                            0.99989       0.99986       0.99951       0.99944       0.99962       0.99954       0.99981       0.99964       0.99899       0.99914       \n",
      "QI(Yule Q interpretation)                                         Strong        Strong        Strong        Strong        Strong        Strong        Strong        Strong        Strong        Strong        \n",
      "RACC(Random accuracy)                                             0.01001       0.01303       0.00988       0.01027       0.00951       0.00831       0.00957       0.01068       0.00928       0.00977       \n",
      "RACCU(Random accuracy unbiased)                                   0.01002       0.01303       0.00988       0.01027       0.00951       0.00831       0.00957       0.01068       0.00928       0.00977       \n",
      "TN(True negative/correct rejection)                               5384          5296          5376          5362          5391          5427          5395          5355          5383          5371          \n",
      "TNR(Specificity or true negative rate)                            0.99556       0.99437       0.99482       0.99536       0.99538       0.99432       0.9976        0.99665       0.99409       0.99371       \n",
      "TON(Test outcome negative)                                        5391          5304          5403          5397          5414          5448          5418          5387          5429          5409          \n",
      "TOP(Test outcome positive)                                        609           696           597           603           586           552           582           613           571           591           \n",
      "TP(True positive/hit)                                             585           666           569           578           561           521           569           595           539           557           \n",
      "TPR(Sensitivity, recall, hit rate, or true positive rate)         0.98818       0.98813       0.9547        0.9429        0.96062       0.96125       0.96115       0.94896       0.92137       0.93613       \n",
      "Y(Youden index)                                                   0.98374       0.9825        0.94952       0.93826       0.956         0.95557       0.95874       0.94561       0.91546       0.92984       \n",
      "dInd(Distance index)                                              0.01263       0.01314       0.0456        0.05728       0.03965       0.03916       0.03893       0.05115       0.07885       0.06417       \n",
      "sInd(Similarity index)                                            0.99107       0.99071       0.96776       0.95949       0.97196       0.97231       0.97248       0.96383       0.94424       0.95462       \n",
      "\n"
     ]
    },
    {
     "name": "stderr",
     "output_type": "stream",
     "text": [
      "/Users/navjot/miniconda3/envs/devito/lib/python3.8/site-packages/pycm/pycm_obj.py:192: RuntimeWarning: The confusion matrix is a high dimension matrix and won't be demonstrated properly.\n",
      "If confusion matrix has too many zeros (sparse matrix) you can set `sparse` flag to True in printing functions otherwise by using save_csv method to save the confusion matrix in csv format you'll have better demonstration.\n",
      "  warn(CLASS_NUMBER_WARNING, RuntimeWarning)\n"
     ]
    }
   ],
   "source": [
    "cm = ConfusionMatrix(actual_vector=y_gt, predict_vector=y_pred) # Create CM From Data\n",
    "print(cm)"
   ]
  },
  {
   "cell_type": "code",
   "execution_count": 37,
   "metadata": {},
   "outputs": [
    {
     "data": {
      "text/plain": [
       "<matplotlib.axes._subplots.AxesSubplot at 0x158ffde50>"
      ]
     },
     "execution_count": 37,
     "metadata": {},
     "output_type": "execute_result"
    },
    {
     "data": {
      "image/png": "[encoded data removed]",
      "text/plain": [
       "<Figure size 432x288 with 2 Axes>"
      ]
     },
     "metadata": {
      "needs_background": "light"
     },
     "output_type": "display_data"
    }
   ],
   "source": [
    "import seaborn as sns\n",
    "\n",
    "\n",
    "def to_raw_matrix(cm):\n",
    "    plt_cm = []\n",
    "    for i in cm.classes :\n",
    "        row=[]\n",
    "        for j in cm.classes:\n",
    "            row.append(cm.table[i][j])\n",
    "        plt_cm.append(row)\n",
    "    plt_cm = np.array(plt_cm)\n",
    "    return plt_cm\n",
    "\n",
    "rcm = to_raw_matrix(cm)\n",
    "rcm = rcm/np.sum(rcm)\n",
    "\n",
    "\n",
    "sns.heatmap(rcm, cmap=\"Blues\", vmax=0.5)"
   ]
  },
  {
   "cell_type": "markdown",
   "metadata": {
    "colab_type": "text",
    "id": "2-OG3gAcE2mr"
   },
   "source": [
    "### Given that you estimated your hyperparameters, train your model on the full dataset and evaluate on the test set"
   ]
  },
  {
   "cell_type": "code",
   "execution_count": 31,
   "metadata": {
    "colab": {
     "base_uri": "https://localhost:8080/",
     "height": 452
    },
    "colab_type": "code",
    "id": "hsHixVU5hzRS",
    "outputId": "21f9240a-9dce-45e7-d77c-bf8ba0adf268"
   },
   "outputs": [
    {
     "ename": "NameError",
     "evalue": "name 'best_momentum' is not defined",
     "output_type": "error",
     "traceback": [
      "\u001b[0;31m---------------------------------------------------------------------------\u001b[0m",
      "\u001b[0;31mNameError\u001b[0m                                 Traceback (most recent call last)",
      "\u001b[0;32m<ipython-input-31-8ef82c1a40af>\u001b[0m in \u001b[0;36m<module>\u001b[0;34m\u001b[0m\n\u001b[1;32m      7\u001b[0m \u001b[0mset_seed\u001b[0m\u001b[0;34m(\u001b[0m\u001b[0mseed\u001b[0m\u001b[0;34m)\u001b[0m\u001b[0;34m\u001b[0m\u001b[0;34m\u001b[0m\u001b[0m\n\u001b[1;32m      8\u001b[0m \u001b[0mmodel\u001b[0m \u001b[0;34m=\u001b[0m \u001b[0mSimpleNet\u001b[0m\u001b[0;34m(\u001b[0m\u001b[0;34m)\u001b[0m\u001b[0;34m.\u001b[0m\u001b[0mto\u001b[0m\u001b[0;34m(\u001b[0m\u001b[0mdevice\u001b[0m\u001b[0;34m)\u001b[0m\u001b[0;34m\u001b[0m\u001b[0;34m\u001b[0m\u001b[0m\n\u001b[0;32m----> 9\u001b[0;31m \u001b[0moptimizer\u001b[0m \u001b[0;34m=\u001b[0m \u001b[0mtorch\u001b[0m\u001b[0;34m.\u001b[0m\u001b[0moptim\u001b[0m\u001b[0;34m.\u001b[0m\u001b[0mSGD\u001b[0m\u001b[0;34m(\u001b[0m\u001b[0mmodel\u001b[0m\u001b[0;34m.\u001b[0m\u001b[0mparameters\u001b[0m\u001b[0;34m(\u001b[0m\u001b[0;34m)\u001b[0m\u001b[0;34m,\u001b[0m \u001b[0mlr\u001b[0m\u001b[0;34m=\u001b[0m\u001b[0mlr\u001b[0m\u001b[0;34m,\u001b[0m \u001b[0mmomentum\u001b[0m\u001b[0;34m=\u001b[0m\u001b[0mbest_momentum\u001b[0m\u001b[0;34m)\u001b[0m\u001b[0;34m\u001b[0m\u001b[0;34m\u001b[0m\u001b[0m\n\u001b[0m\u001b[1;32m     10\u001b[0m \u001b[0mcriterion\u001b[0m \u001b[0;34m=\u001b[0m \u001b[0mnn\u001b[0m\u001b[0;34m.\u001b[0m\u001b[0mCrossEntropyLoss\u001b[0m\u001b[0;34m(\u001b[0m\u001b[0;34m)\u001b[0m\u001b[0;34m\u001b[0m\u001b[0;34m\u001b[0m\u001b[0m\n\u001b[1;32m     11\u001b[0m \u001b[0;34m\u001b[0m\u001b[0m\n",
      "\u001b[0;31mNameError\u001b[0m: name 'best_momentum' is not defined"
     ]
    }
   ],
   "source": [
    "mnist_train = MNIST(\"./\", download=True, train=True)\n",
    "\n",
    "X_train, y_train = apply_normalization(mnist_train.train_data.float()), mnist_train.train_labels\n",
    "mnist_train = TensorDataset(X_train, y_train)\n",
    "train_loader = DataLoader(mnist_train, batch_size=batch_size, shuffle=True, num_workers=4)\n",
    "\n",
    "set_seed(seed)\n",
    "model = SimpleNet().to(device)\n",
    "optimizer = torch.optim.SGD(model.parameters(), lr=lr, momentum=best_momentum)\n",
    "criterion = nn.CrossEntropyLoss()\n",
    "\n",
    "liveloss = PlotLosses()\n",
    "for epoch in range(n_epochs):\n",
    "    logs = {}\n",
    "    train_loss, train_accuracy = train(model, optimizer, criterion, train_loader)\n",
    "\n",
    "    logs['' + 'log loss'] = train_loss.item()\n",
    "    logs['' + 'accuracy'] = train_accuracy.item()\n",
    "    liveloss.update(logs)\n",
    "    liveloss.draw()\n",
    "\n",
    "test_loss, test_accuracy = validate(model, criterion, test_loader)    \n",
    "print(\"Avg. Test Loss: %1.3f\" % test_loss.item(), \" Avg. Test Accuracy: %1.3f\" % test_accuracy.item())\n",
    "print(\"\")"
   ]
  },
  {
   "cell_type": "markdown",
   "metadata": {
    "colab_type": "text",
    "id": "QefvYkcIAaWH"
   },
   "source": [
    "### Storing and loading models - Pytorch State-Dicts"
   ]
  },
  {
   "cell_type": "markdown",
   "metadata": {
    "colab_type": "text",
    "id": "6db2OqwdAb7V"
   },
   "source": [
    "Pytorch stores all the parameters of models and optimizers, their weights and biases in an easy to read dictionary called a \"state-dict\".\n",
    "When we store models and optimizers, we store the state-dict.  \n",
    "Together with the model definition we can then restore the model to it's state when we stored it to disk.\n",
    "Let's look at the contents of the state-dict of both our optimizer and our model:"
   ]
  },
  {
   "cell_type": "code",
   "execution_count": 26,
   "metadata": {
    "colab": {
     "base_uri": "https://localhost:8080/",
     "height": 1259
    },
    "colab_type": "code",
    "id": "YzY_uubq_uqM",
    "outputId": "04d48c9c-2333-4866-b0b3-7689131360bb"
   },
   "outputs": [
    {
     "name": "stdout",
     "output_type": "stream",
     "text": [
      "Model's state_dict:\n",
      "linear_1.weight \t torch.Size([25, 784])\n",
      "linear_1.bias \t torch.Size([25])\n",
      "linear_2.weight \t torch.Size([10, 25])\n",
      "linear_2.bias \t torch.Size([10])\n",
      "Optimizer's state_dict:\n",
      "state \t {140407283192456: {'momentum_buffer': tensor([[-0.0008, -0.0008, -0.0008,  ..., -0.0008, -0.0008, -0.0008],\n",
      "        [ 0.0046,  0.0046,  0.0046,  ...,  0.0046,  0.0046,  0.0046],\n",
      "        [ 0.0003,  0.0003,  0.0003,  ...,  0.0003,  0.0003,  0.0003],\n",
      "        ...,\n",
      "        [ 0.0017,  0.0017,  0.0017,  ...,  0.0017,  0.0017,  0.0017],\n",
      "        [ 0.0087,  0.0087,  0.0087,  ...,  0.0087,  0.0087,  0.0087],\n",
      "        [-0.0046, -0.0046, -0.0046,  ..., -0.0046, -0.0046, -0.0046]],\n",
      "       device='cuda:0')}, 140408644217592: {'momentum_buffer': tensor([ 0.0018, -0.0107, -0.0007, -0.0067,  0.0159,  0.0029,  0.0137,  0.0019,\n",
      "         0.0133, -0.0002, -0.0017, -0.0052,  0.0079,  0.0076,  0.0033, -0.0024,\n",
      "        -0.0028,  0.0068, -0.0055,  0.0061, -0.0130,  0.0016, -0.0041, -0.0204,\n",
      "         0.0109], device='cuda:0')}, 140407212256928: {'momentum_buffer': tensor([[ 5.6731e-04,  1.8843e-03,  2.0575e-02,  1.4897e-02,  1.6406e-03,\n",
      "         -1.5407e-03,  5.3213e-03,  1.3586e-02,  1.4933e-02,  8.3544e-03,\n",
      "          1.0720e-02,  7.2142e-03, -1.8427e-03,  1.7249e-02,  6.8353e-03,\n",
      "         -8.6842e-03,  2.2887e-02,  8.1714e-04, -5.6719e-03,  6.2228e-03,\n",
      "          6.6362e-03, -2.4087e-03,  1.7103e-02,  8.4131e-04,  1.2256e-02],\n",
      "        [ 3.2830e-03, -2.4341e-03, -3.8875e-03, -1.1288e-02,  3.4027e-04,\n",
      "         -6.3019e-03,  3.3415e-03, -5.3164e-03, -1.2642e-02,  2.4981e-03,\n",
      "          9.8440e-04, -6.8034e-03,  1.1228e-03, -6.0178e-03, -1.9985e-02,\n",
      "         -1.2620e-03, -4.8405e-03, -2.7185e-03,  1.9523e-03,  3.0123e-03,\n",
      "          8.9523e-04,  2.5468e-04, -7.0074e-03, -3.1704e-03, -5.4137e-03],\n",
      "        [-1.1823e-03, -2.9165e-02, -1.1730e-02, -5.4225e-02, -4.1272e-02,\n",
      "          4.1759e-03, -7.1616e-02, -1.5880e-01,  2.8157e-03, -3.3263e-02,\n",
      "         -3.6521e-02, -8.2321e-02, -2.9452e-02, -4.5725e-02, -9.2778e-02,\n",
      "         -6.6996e-02, -2.0673e-02, -3.7195e-02, -1.0737e-02, -5.1911e-02,\n",
      "         -6.6418e-02,  6.5497e-04, -5.1223e-02, -1.5791e-01, -6.9874e-02],\n",
      "        [ 1.1906e-02,  4.6710e-03,  7.8494e-03,  3.4509e-02,  4.4099e-03,\n",
      "          3.4919e-02,  3.7253e-02,  3.8762e-02,  1.1071e-02,  2.5890e-02,\n",
      "          4.5200e-03,  1.2428e-02,  2.2236e-02,  1.6013e-02,  8.1762e-02,\n",
      "          4.7487e-02,  9.2614e-03,  2.4638e-02,  2.9812e-02,  2.2306e-02,\n",
      "          9.9948e-03,  3.3368e-02,  2.2438e-02,  2.6517e-02,  4.1482e-02],\n",
      "        [ 7.1205e-04,  1.7545e-02,  3.9458e-02,  3.6751e-02,  9.1735e-03,\n",
      "          4.7008e-02,  2.6541e-02,  4.2504e-02,  8.7446e-02,  7.4191e-02,\n",
      "          2.3696e-02,  2.2516e-03,  3.9506e-02,  4.6500e-02,  1.0670e-01,\n",
      "          2.0386e-05,  7.6621e-02,  9.8166e-02,  1.0421e-02,  7.7589e-02,\n",
      "          1.5998e-02,  1.4370e-02,  7.5627e-02,  3.8643e-02,  5.2522e-02],\n",
      "        [-1.7705e-02,  9.5528e-04, -1.2075e-02,  3.4582e-02,  2.5425e-02,\n",
      "         -1.6695e-02,  1.7935e-02,  9.1599e-02, -1.7516e-02, -6.3108e-03,\n",
      "          7.9363e-03,  5.5219e-02,  3.3376e-03,  8.4734e-04,  1.7289e-02,\n",
      "          1.5106e-02, -3.8112e-03,  3.1543e-03, -2.6912e-02, -1.5339e-02,\n",
      "          3.1429e-02, -3.7850e-02,  3.0239e-02,  1.0741e-01,  3.1207e-03],\n",
      "        [ 8.8874e-05,  1.9626e-03,  4.0175e-03, -1.5166e-02, -1.9178e-03,\n",
      "         -1.0100e-03, -6.6667e-04,  1.7957e-03, -6.3778e-03, -1.3130e-02,\n",
      "          7.4903e-04, -2.0372e-03, -6.5009e-03,  1.2068e-03, -1.7923e-02,\n",
      "         -9.1797e-03, -6.2674e-03, -1.3181e-02, -3.9125e-04, -1.4041e-03,\n",
      "          7.2057e-04, -3.0804e-03, -1.1683e-02, -4.9326e-03, -3.0240e-03],\n",
      "        [ 5.8800e-03,  1.4726e-02,  1.2649e-03, -1.4019e-02,  1.3834e-03,\n",
      "         -1.2073e-02, -1.2570e-02, -1.7077e-03,  4.7521e-03, -1.0276e-02,\n",
      "          4.7358e-03,  4.6631e-03,  1.7028e-03,  1.0256e-03,  1.7811e-03,\n",
      "          3.1163e-03, -1.8901e-03, -5.4119e-04,  3.6675e-03,  1.2473e-02,\n",
      "          4.5833e-04, -6.2708e-04, -1.4782e-02,  9.0096e-03, -3.3510e-04],\n",
      "        [-4.1040e-04, -5.6400e-02,  1.1155e-02, -4.3837e-02, -9.0559e-04,\n",
      "          1.1851e-02, -9.5180e-02, -6.9680e-02, -5.4894e-02, -2.5685e-02,\n",
      "         -4.9951e-02, -9.2258e-04, -2.0607e-02,  8.0865e-03, -5.6131e-02,\n",
      "          8.1350e-03,  9.5056e-03, -1.2801e-03, -1.8871e-02, -8.1526e-02,\n",
      "         -5.3221e-02,  1.2392e-03,  1.1309e-02, -2.6947e-02, -4.8519e-02],\n",
      "        [-3.1385e-03,  4.6254e-02, -5.6627e-02,  1.7795e-02,  1.7227e-03,\n",
      "         -6.0333e-02,  8.9641e-02,  4.7257e-02, -2.9587e-02, -2.2268e-02,\n",
      "          3.3130e-02,  1.0308e-02, -9.5020e-03, -3.9185e-02, -2.7546e-02,\n",
      "          1.2257e-02, -8.0792e-02, -7.1859e-02,  1.6731e-02,  2.8576e-02,\n",
      "          5.3506e-02, -5.9209e-03, -7.2021e-02,  1.0532e-02,  1.7785e-02]],\n",
      "       device='cuda:0')}, 140407212256568: {'momentum_buffer': tensor([ 0.0015, -0.0001, -0.0153,  0.0077,  0.0137,  0.0038, -0.0022,  0.0004,\n",
      "        -0.0052, -0.0042], device='cuda:0')}}\n",
      "param_groups \t [{'lr': 0.01, 'momentum': 0.5, 'dampening': 0, 'weight_decay': 0, 'nesterov': False, 'params': [140407283192456, 140408644217592, 140407212256928, 140407212256568]}]\n"
     ]
    }
   ],
   "source": [
    "# Print model's state_dict\n",
    "print(\"Model's state_dict:\")\n",
    "for param_tensor in model.state_dict():\n",
    "    print(param_tensor, \"\\t\", model.state_dict()[param_tensor].size())\n",
    "\n",
    "# Print optimizer's state_dict\n",
    "print(\"Optimizer's state_dict:\")\n",
    "for var_name in optimizer.state_dict():\n",
    "    print(var_name, \"\\t\", optimizer.state_dict()[var_name])"
   ]
  },
  {
   "cell_type": "markdown",
   "metadata": {
    "colab_type": "text",
    "id": "EjiWkU_TGJgK"
   },
   "source": [
    "### Storing models to disk\n",
    "From colab (and locally) we can store models to disk using ```torch.save``` and passing both a models state_dict() and a path where to store it."
   ]
  },
  {
   "cell_type": "code",
   "execution_count": 0,
   "metadata": {
    "colab": {},
    "colab_type": "code",
    "id": "gjOcO8oxGJt0"
   },
   "outputs": [],
   "source": [
    "model_save_name = 'simplenet_mnist_classifier.pt'\n",
    "path = F\"/content/gdrive/My Drive/models/{model_save_name}\" \n",
    "torch.save(model.state_dict(), path)"
   ]
  },
  {
   "cell_type": "markdown",
   "metadata": {
    "colab_type": "text",
    "id": "_OiqJ0HOF6hq"
   },
   "source": [
    "### Loading models from checkpoints\n",
    "Finally, we can restore models from the saved ```state_dict```'s and do a number of things such as:\n",
    "1. Continue training (given we stored the optimizer as well)\n",
    "2. Make predictions from our model\n",
    "3. Perform inspections of our model\n",
    "4. Use our model in ensembles \n",
    "5. ...\n",
    "\n",
    "By default a loaded model is put into ```.train()``` mode. So be careful when using networks that behave different depending on training and test time e.g. dropout regularized networks or batch-normalized networks."
   ]
  },
  {
   "cell_type": "code",
   "execution_count": 28,
   "metadata": {
    "colab": {
     "base_uri": "https://localhost:8080/",
     "height": 53
    },
    "colab_type": "code",
    "id": "8t4FzhqVF6vh",
    "outputId": "a6db6d8e-0387-4d13-d6d6-6fd25199185b"
   },
   "outputs": [
    {
     "name": "stdout",
     "output_type": "stream",
     "text": [
      "Avg. Test Loss: 0.116  Avg. Test Accuracy: 0.965\n",
      "\n"
     ]
    }
   ],
   "source": [
    "model = SimpleNet().to(device)\n",
    "model.load_state_dict(torch.load(path))\n",
    "model.eval()\n",
    "\n",
    "test_loss, test_accuracy = validate(model, criterion, test_loader)    \n",
    "print(\"Avg. Test Loss: %1.3f\" % test_loss.item(), \" Avg. Test Accuracy: %1.3f\" % test_accuracy.item())\n",
    "print(\"\")"
   ]
  },
  {
   "cell_type": "markdown",
   "metadata": {
    "colab_type": "text",
    "id": "uhSLXauWHmZ2"
   },
   "source": [
    "Our model performs exactly the same as before storing it to disk."
   ]
  },
  {
   "cell_type": "code",
   "execution_count": 0,
   "metadata": {
    "colab": {},
    "colab_type": "code",
    "id": "DV5_Nma1HhNj"
   },
   "outputs": [],
   "source": []
  }
 ],
 "metadata": {
  "accelerator": "GPU",
  "colab": {
   "collapsed_sections": [],
   "name": "Morning Session 3 - MNIST-Neural-Networks-Regularization-Cross-Validation.ipynb",
   "provenance": [],
   "version": "0.3.2"
  },
  "kernelspec": {
   "display_name": "Python 3",
   "language": "python",
   "name": "python3"
  },
  "language_info": {
   "codemirror_mode": {
    "name": "ipython",
    "version": 3
   },
   "file_extension": ".py",
   "mimetype": "text/x-python",
   "name": "python",
   "nbconvert_exporter": "python",
   "pygments_lexer": "ipython3",
   "version": "3.8.1"
  }
 },
 "nbformat": 4,
 "nbformat_minor": 1
}
